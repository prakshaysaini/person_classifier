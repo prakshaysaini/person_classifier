{
 "cells": [
  {
   "cell_type": "code",
   "execution_count": 70,
   "id": "6aa039ab",
   "metadata": {},
   "outputs": [],
   "source": [
    "import numpy as np\n",
    "import cv2\n",
    "import matplotlib\n",
    "from matplotlib import pyplot as plt\n",
    "    "
   ]
  },
  {
   "cell_type": "code",
   "execution_count": 71,
   "id": "8aec25f8",
   "metadata": {},
   "outputs": [],
   "source": [
    "#data cleaning\n",
    "\n",
    "face_detect = cv2.CascadeClassifier(cv2.data.haarcascades + 'haarcascade_frontalface_default.xml')   #face cascade\n",
    "eyes_detect = cv2.CascadeClassifier(cv2.data.haarcascades + 'haarcascade_eye.xml')                  #eye cascade\n",
    "\n",
    "\n",
    "\n",
    "if face_detect.empty():\n",
    "    raise IOError(\"Failed to load haarcascade_frontalface_default.xml\")\n",
    "\n",
    "if eyes_detect.empty():\n",
    "    raise IOError(\"Failed to load haarcascade_eye.xml\")\n"
   ]
  },
  {
   "cell_type": "code",
   "execution_count": 72,
   "id": "8a1770a1",
   "metadata": {},
   "outputs": [],
   "source": [
    "def cropped_image_with_2eyes(image_path):\n",
    "    img=cv2.imread(image_path)\n",
    "    if img is None:\n",
    "        print(f\"Error: Unable to read image at {image_path}\")\n",
    "        return None\n",
    "    gray=cv2.cvtColor(img,cv2.COLOR_BGR2GRAY)\n",
    "    faces=face_detect.detectMultiScale(gray,1.3,5)\n",
    "    for (x,y,w,h) in faces:\n",
    "        roi_gray=gray[y:y+h, x:x+w]\n",
    "        roi_color=img[y:y+h,x:x+w]\n",
    "        eyes=eyes_detect.detectMultiScale(roi_gray)\n",
    "        if len(eyes)>=2:\n",
    "            return roi_color\n",
    "    return None"
   ]
  },
  {
   "cell_type": "code",
   "execution_count": 73,
   "id": "cb344ce1",
   "metadata": {},
   "outputs": [],
   "source": [
    "images_path='./images'\n",
    "cropped_images='./cropped_images'\n"
   ]
  },
  {
   "cell_type": "code",
   "execution_count": 74,
   "id": "4646bf8f",
   "metadata": {},
   "outputs": [],
   "source": [
    "import os\n",
    "img_dirs=[]\n",
    "for entry in os.scandir(images_path):\n",
    "    if entry.is_dir():\n",
    "        img_dirs.append(entry.path)"
   ]
  },
  {
   "cell_type": "code",
   "execution_count": 75,
   "id": "1e7c0996",
   "metadata": {},
   "outputs": [
    {
     "data": {
      "text/plain": [
       "['./images\\\\elon_musk',\n",
       " './images\\\\jeff_bezos',\n",
       " './images\\\\pavel_durov',\n",
       " './images\\\\sam_altman',\n",
       " './images\\\\satya_nandella',\n",
       " './images\\\\sundar_pichai']"
      ]
     },
     "execution_count": 75,
     "metadata": {},
     "output_type": "execute_result"
    }
   ],
   "source": [
    "img_dirs"
   ]
  },
  {
   "cell_type": "code",
   "execution_count": 76,
   "id": "8abc5191",
   "metadata": {},
   "outputs": [],
   "source": [
    "import shutil\n",
    "if os.path.exists(cropped_images):\n",
    "    shutil.rmtree(cropped_images)\n",
    "os.makedirs(cropped_images)\n"
   ]
  },
  {
   "cell_type": "code",
   "execution_count": 77,
   "id": "eccb9216",
   "metadata": {},
   "outputs": [
    {
     "name": "stdout",
     "output_type": "stream",
     "text": [
      "images\\elon_musk\n",
      "Error: Unable to read image at ./images\\elon_musk\\04dtmd6g_elon-musk_625x300_22_November_24.jpg\n",
      "Error: Unable to read image at ./images\\elon_musk\\1574363408-796.jpg\n",
      "Error: Unable to read image at ./images\\elon_musk\\20250414030810_elonmuskssn.jpg\n",
      "Error: Unable to read image at ./images\\elon_musk\\3VNRE7RXQDEWEFFS23ZEBGIZ2Q.jpg\n",
      "Error: Unable to read image at ./images\\elon_musk\\679ae348eb49a-elon-musk-302611153-16x9.jpg\n",
      "Error: Unable to read image at ./images\\elon_musk\\6EHE75VUFNNGJEM67MY6K3KBII.jpg\n",
      "Error: Unable to read image at ./images\\elon_musk\\elon-musk-1-gty-gmh-250604_1749042286752_hpMain.jpg\n",
      "Error: Unable to read image at ./images\\elon_musk\\elon-musk-1-rt-gmh-250528_1748436299357_hpMain.jpg\n",
      "Error: Unable to read image at ./images\\elon_musk\\https%3A%2F%2Fcloudfront-us-east-2.images.arcpublishing.com%2Freuters%2FNPYZQCXOD5NHFDJXBOQLVZD7PM.jpg\n",
      "Error: Unable to read image at ./images\\elon_musk\\spacex-founder-elon-musk-171701448-16x9_0.jpg\n",
      "Error: Unable to read image at ./images\\elon_musk\\Y42SE4ZM7RIBRAS5WEEDFYYPVA.jpg\n",
      "Processed images\\elon_musk images\n",
      "images\\jeff_bezos\n",
      "Error: Unable to read image at ./images\\jeff_bezos\\Amazon-founder-Jeff-Bezos-loses-Worlds-Second-Richest-man-title-to-one-of-his-biggest-competitor.jpg\n",
      "Error: Unable to read image at ./images\\jeff_bezos\\Amazon-founder-Jeff-Bezos-major-setbacks-How-failed-ventures-and-financial-struggles-paved-the-way-for-the-tech-giants-success.jpg\n",
      "Error: Unable to read image at ./images\\jeff_bezos\\profile_pic.jpg\n",
      "Processed images\\jeff_bezos images\n",
      "images\\pavel_durov\n",
      "Error: Unable to read image at ./images\\pavel_durov\\20241112123341_MixCollage-12-Nov-2024-06-06-PM-7873.jpg\n",
      "Error: Unable to read image at ./images\\pavel_durov\\5CJE5C2HPRCBDI3WJRHKPEYXKQ.jpg\n",
      "Error: Unable to read image at ./images\\pavel_durov\\66db0b583a683-pavel-durov-060158763-16x9.jpg\n",
      "Error: Unable to read image at ./images\\pavel_durov\\com_lookaside_crawler_media_.jpg\n",
      "Error: Unable to read image at ./images\\pavel_durov\\com_seo_google_widget_crawler_.jpg\n",
      "Processed images\\pavel_durov images\n",
      "images\\sam_altman\n",
      "Error: Unable to read image at ./images\\sam_altman\\1690197756-0319.jpg\n",
      "Error: Unable to read image at ./images\\sam_altman\\1709950263-9054.jpg\n",
      "Error: Unable to read image at ./images\\sam_altman\\20250305043522_MixCollage-05-Mar-2025-10-04-AM-2722.jpg\n",
      "Error: Unable to read image at ./images\\sam_altman\\im-850177_1694627950333_1700278768196.jpg\n",
      "Error: Unable to read image at ./images\\sam_altman\\img_208019_samaltman.jpg\n",
      "Error: Unable to read image at ./images\\sam_altman\\sam-altman-054233439-16x9_0.jpg\n",
      "Error: Unable to read image at ./images\\sam_altman\\Sam-Altman-2.jpg\n",
      "Error: Unable to read image at ./images\\sam_altman\\YMHTV77EWJK4NIRIDAV5KJ7CVA.jpg\n",
      "Processed images\\sam_altman images\n",
      "images\\satya_nandella\n",
      "Error: Unable to read image at ./images\\satya_nandella\\1578983868.jpg\n",
      "Error: Unable to read image at ./images\\satya_nandella\\1696211365-0764.jpg\n",
      "Error: Unable to read image at ./images\\satya_nandella\\1716256671-6971.jpg\n",
      "Error: Unable to read image at ./images\\satya_nandella\\Collage-Maker-25-Mar-2023-02-05-PM-7030-770x433.jpg\n",
      "Error: Unable to read image at ./images\\satya_nandella\\com_lookaside_crawler_media_.jpg\n",
      "Error: Unable to read image at ./images\\satya_nandella\\Microsoft_Satya_Nadella_OpenAI_Azure_service_tech_1744851947222_1748599697015.jpg\n",
      "Error: Unable to read image at ./images\\satya_nandella\\rs_1024x759-220302062455-1024-Satya-Nadella-LT-3222-GettyImages-1132133010.jpg\n",
      "Error: Unable to read image at ./images\\satya_nandella\\Satya-nadella-20231003.jpg\n",
      "Error: Unable to read image at ./images\\satya_nandella\\satya_nadella_0.jpg\n",
      "Processed images\\satya_nandella images\n",
      "images\\sundar_pichai\n",
      "Error: Unable to read image at ./images\\sundar_pichai\\106490-sundar-pichai-reuters.jpg\n",
      "Error: Unable to read image at ./images\\sundar_pichai\\1712202700-2974.jpg\n",
      "Error: Unable to read image at ./images\\sundar_pichai\\1718422406-879.jpg\n",
      "Error: Unable to read image at ./images\\sundar_pichai\\2586310-untitled-design-2023-04-22t171922.199.jpg\n",
      "Error: Unable to read image at ./images\\sundar_pichai\\2586402-sundar-pichai-anjali-pichai.jpg\n",
      "Error: Unable to read image at ./images\\sundar_pichai\\6666aa354743c-google-ceo-sundar-pichai-153243500-16x9.jpg\n",
      "Error: Unable to read image at ./images\\sundar_pichai\\anjali-pichai.jpg\n",
      "Error: Unable to read image at ./images\\sundar_pichai\\com_lookaside_crawler_media_.jpg\n",
      "Error: Unable to read image at ./images\\sundar_pichai\\com_seo_google_widget_crawler_.jpg\n",
      "Error: Unable to read image at ./images\\sundar_pichai\\Sundar-Pichai-2.jpg\n",
      "Error: Unable to read image at ./images\\sundar_pichai\\Sundar-Pichai-Google-IO-2025.jpg\n",
      "Error: Unable to read image at ./images\\sundar_pichai\\SUNDAR-PICHAI-INTERVIEW-31_1715228942008_1715228956565.jpg\n",
      "Error: Unable to read image at ./images\\sundar_pichai\\Sundar_Pichai__1742983784508.jpg\n",
      "Processed images\\sundar_pichai images\n"
     ]
    }
   ],
   "source": [
    "cropped_images_dirs = []\n",
    "name_dict = {}\n",
    "\n",
    "for img_dir in img_dirs:\n",
    "    name = img_dir.split('/')[-1]\n",
    "    print(name)\n",
    "\n",
    "    for entry in os.scandir(img_dir):\n",
    "        roi_color = cropped_image_with_2eyes(entry.path)\n",
    "        if roi_color is not None:\n",
    "            # Create directory if not exists\n",
    "            cropped_folder = os.path.join(cropped_images, name)\n",
    "            os.makedirs(cropped_folder, exist_ok=True)\n",
    "\n",
    "            # Create unique image path\n",
    "            cropped_image_path = os.path.join(cropped_folder, entry.name)\n",
    "\n",
    "            # Save image\n",
    "            cv2.imwrite(cropped_image_path, roi_color)\n",
    "\n",
    "            # Track image path and name\n",
    "            cropped_images_dirs.append(cropped_image_path)\n",
    "            name_dict[cropped_image_path] = name\n",
    "\n",
    "    print(f'Processed {name} images')"
   ]
  },
  {
   "cell_type": "code",
   "execution_count": 79,
   "id": "653f4591",
   "metadata": {},
   "outputs": [],
   "source": [
    "#using wavelet transform to extract features\n",
    "import pywt\n",
    "def wavelet_transform(image_path,mode='haar',level=2):\n",
    "    img = cv2.imread(image_path, cv2.IMREAD_GRAYSCALE)\n",
    "    array=img\n",
    "    array=cv2.cvtColor(array, cv2.COLOR_BGR2GRAY)\n",
    "    array=np.float32(array)\n",
    "    array /= 255.0  # Normalize to [0, 1]\n",
    "    coeffs = pywt.wavedec2(array, 'haar', level=level)\n",
    "    coeffs_H=list(coeffs)\n",
    "    coeffs_H[0] *=0  # Set the approximation coefficients to zero\n",
    "\n",
    "    array_H = pywt.waverec2(coeffs_H, 'haar')\n",
    "    array_H *= 255.0  # Scale back to [0, 255]\n",
    "    array_H=np.uint8(array_H)  # Convert to uint8\n",
    "\n",
    "    return array_H"
   ]
  },
  {
   "cell_type": "code",
   "execution_count": 81,
   "id": "20e2800d",
   "metadata": {},
   "outputs": [
    {
     "data": {
      "text/plain": [
       "{'images\\\\elon_musk': 0,\n",
       " 'images\\\\jeff_bezos': 1,\n",
       " 'images\\\\pavel_durov': 2,\n",
       " 'images\\\\sam_altman': 3,\n",
       " 'images\\\\satya_nandella': 4,\n",
       " 'images\\\\sundar_pichai': 5}"
      ]
     },
     "execution_count": 81,
     "metadata": {},
     "output_type": "execute_result"
    }
   ],
   "source": [
    "class_dict = {}\n",
    "count = 0\n",
    "for namee in name_dict.values():\n",
    "    if namee not in class_dict:\n",
    "        class_dict[namee] = count\n",
    "        count += 1\n",
    "class_dict"
   ]
  },
  {
   "cell_type": "code",
   "execution_count": null,
   "id": "b208aa75",
   "metadata": {},
   "outputs": [
    {
     "ename": "error",
     "evalue": "OpenCV(4.11.0) D:\\a\\opencv-python\\opencv-python\\opencv\\modules\\imgproc\\src\\resize.cpp:4208: error: (-215:Assertion failed) !ssize.empty() in function 'cv::resize'\n",
     "output_type": "error",
     "traceback": [
      "\u001b[1;31m---------------------------------------------------------------------------\u001b[0m",
      "\u001b[1;31merror\u001b[0m                                     Traceback (most recent call last)",
      "Cell \u001b[1;32mIn[82], line 7\u001b[0m\n\u001b[0;32m      5\u001b[0m \u001b[38;5;28;01mfor\u001b[39;00m training_image \u001b[38;5;129;01min\u001b[39;00m training_files:\n\u001b[0;32m      6\u001b[0m     img\u001b[38;5;241m=\u001b[39mcv2\u001b[38;5;241m.\u001b[39mimread(training_image)\n\u001b[1;32m----> 7\u001b[0m     scalled_raw_image \u001b[38;5;241m=\u001b[39m \u001b[43mcv2\u001b[49m\u001b[38;5;241;43m.\u001b[39;49m\u001b[43mresize\u001b[49m\u001b[43m(\u001b[49m\u001b[43mimg\u001b[49m\u001b[43m,\u001b[49m\u001b[43m \u001b[49m\u001b[43m(\u001b[49m\u001b[38;5;241;43m32\u001b[39;49m\u001b[43m,\u001b[49m\u001b[38;5;241;43m32\u001b[39;49m\u001b[43m)\u001b[49m\u001b[43m)\u001b[49m  \u001b[38;5;66;03m# Resize to 32x32\u001b[39;00m\n\u001b[0;32m      8\u001b[0m     img_har\u001b[38;5;241m=\u001b[39m wavelet_transform(training_image, \u001b[38;5;124m'\u001b[39m\u001b[38;5;124mdb1\u001b[39m\u001b[38;5;124m'\u001b[39m, \u001b[38;5;241m5\u001b[39m)\n\u001b[0;32m      9\u001b[0m     scalled_raw_har \u001b[38;5;241m=\u001b[39m cv2\u001b[38;5;241m.\u001b[39mresize(img_har, (\u001b[38;5;241m32\u001b[39m,\u001b[38;5;241m32\u001b[39m))\n",
      "\u001b[1;31merror\u001b[0m: OpenCV(4.11.0) D:\\a\\opencv-python\\opencv-python\\opencv\\modules\\imgproc\\src\\resize.cpp:4208: error: (-215:Assertion failed) !ssize.empty() in function 'cv::resize'\n"
     ]
    }
   ],
   "source": [
    "X=[]\n",
    "Y=[]\n",
    "\n",
    "for namee, training_files in name_dict.items():\n",
    "    for training_image in training_files:\n",
    "        img=cv2.imread(training_image)\n",
    "        if img is None:\n",
    "            continue\n",
    "        scalled_raw_image = cv2.resize(img, (32,32))  # Resize to 32x32\n",
    "        img_har= wavelet_transform(training_image, 'db1', 5)\n",
    "        scalled_raw_har = cv2.resize(img_har, (32,32))\n",
    "        combined_image = np.hstack((scalled_raw_image, scalled_raw_har))\n",
    "        X.append(combined_image)\n",
    "        Y.append(class_dict[namee])\n"
   ]
  }
 ],
 "metadata": {
  "kernelspec": {
   "display_name": "Python 3",
   "language": "python",
   "name": "python3"
  },
  "language_info": {
   "codemirror_mode": {
    "name": "ipython",
    "version": 3
   },
   "file_extension": ".py",
   "mimetype": "text/x-python",
   "name": "python",
   "nbconvert_exporter": "python",
   "pygments_lexer": "ipython3",
   "version": "3.12.2"
  }
 },
 "nbformat": 4,
 "nbformat_minor": 5
}
